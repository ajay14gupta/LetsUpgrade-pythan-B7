{
 "cells": [
  {
   "cell_type": "markdown",
   "metadata": {},
   "source": [
    "# Prime Number Using UnitTest & PyLint"
   ]
  },
  {
   "cell_type": "code",
   "execution_count": 1,
   "metadata": {},
   "outputs": [
    {
     "name": "stdout",
     "output_type": "stream",
     "text": [
      "Note: you may need to restart the kernel to use updated packages.\n"
     ]
    },
    {
     "name": "stderr",
     "output_type": "stream",
     "text": [
      "'C:\\Users\\Ajay' is not recognized as an internal or external command,\n",
      "operable program or batch file.\n"
     ]
    }
   ],
   "source": [
    "pip install pylint"
   ]
  },
  {
   "cell_type": "code",
   "execution_count": 3,
   "metadata": {},
   "outputs": [
    {
     "name": "stdout",
     "output_type": "stream",
     "text": [
      "Requirement already satisfied: pylint in c:\\users\\ajay gupta\\pythan\\lib\\site-packages (2.5.3)\n",
      "Requirement already satisfied: astroid<=2.5,>=2.4.0 in c:\\users\\ajay gupta\\pythan\\lib\\site-packages (from pylint) (2.4.2)\n",
      "Requirement already satisfied: colorama; sys_platform == \"win32\" in c:\\users\\ajay gupta\\pythan\\lib\\site-packages (from pylint) (0.4.3)\n",
      "Requirement already satisfied: isort<5,>=4.2.5 in c:\\users\\ajay gupta\\pythan\\lib\\site-packages (from pylint) (4.3.21)\n",
      "Requirement already satisfied: mccabe<0.7,>=0.6 in c:\\users\\ajay gupta\\pythan\\lib\\site-packages (from pylint) (0.6.1)\n",
      "Requirement already satisfied: toml>=0.7.1 in c:\\users\\ajay gupta\\pythan\\lib\\site-packages (from pylint) (0.10.1)\n",
      "Requirement already satisfied: wrapt~=1.11 in c:\\users\\ajay gupta\\pythan\\lib\\site-packages (from astroid<=2.5,>=2.4.0->pylint) (1.11.2)\n",
      "Requirement already satisfied: six~=1.12 in c:\\users\\ajay gupta\\pythan\\lib\\site-packages (from astroid<=2.5,>=2.4.0->pylint) (1.15.0)\n",
      "Requirement already satisfied: lazy-object-proxy==1.4.* in c:\\users\\ajay gupta\\pythan\\lib\\site-packages (from astroid<=2.5,>=2.4.0->pylint) (1.4.3)\n"
     ]
    }
   ],
   "source": [
    "! pip install pylint"
   ]
  },
  {
   "cell_type": "code",
   "execution_count": 11,
   "metadata": {},
   "outputs": [
    {
     "name": "stdout",
     "output_type": "stream",
     "text": [
      "Writing primeCode.py\n"
     ]
    }
   ],
   "source": [
    "%%writefile primeCode.py\n",
    "\n",
    "def is_prime(number):\n",
    "    \"\"\"Return True if *number* is prime.\"\"\"\n",
    "    for element in range(number):\n",
    "        if number % element == 0:\n",
    "            return False\n",
    "\n",
    "    return True\n",
    "\n",
    "def print_next_prime(number):\n",
    "    \"\"\"Print the closest prime number larger than *number*.\"\"\"\n",
    "    index = number\n",
    "    while True:\n",
    "        index += 1\n",
    "        if is_prime(index):\n",
    "            print(index)"
   ]
  },
  {
   "cell_type": "code",
   "execution_count": 13,
   "metadata": {},
   "outputs": [
    {
     "name": "stdout",
     "output_type": "stream",
     "text": [
      "************* Module primeCode\n",
      "primeCode.py:1:0: C0103: Module name \"primeCode\" doesn't conform to snake_case naming style (invalid-name)\n",
      "primeCode.py:1:0: C0114: Missing module docstring (missing-module-docstring)\n",
      "\n",
      "-----------------------------------\n",
      "\n",
      "Your code has been rated at 8.18/10\n",
      "\n",
      "\n",
      "\n"
     ]
    }
   ],
   "source": [
    "! pylint \"primeCode.py\""
   ]
  },
  {
   "cell_type": "code",
   "execution_count": 16,
   "metadata": {},
   "outputs": [
    {
     "name": "stderr",
     "output_type": "stream",
     "text": [
      "E\n",
      "======================================================================\n",
      "ERROR: C:\\Users\\Ajay gupta\\AppData\\Roaming\\jupyter\\runtime\\kernel-0a065194-f52f-42a4-aa86-abe2b3b563e7 (unittest.loader._FailedTest)\n",
      "----------------------------------------------------------------------\n",
      "AttributeError: module '__main__' has no attribute 'C:\\Users\\Ajay gupta\\AppData\\Roaming\\jupyter\\runtime\\kernel-0a065194-f52f-42a4-aa86-abe2b3b563e7'\n",
      "\n",
      "----------------------------------------------------------------------\n",
      "Ran 1 test in 0.006s\n",
      "\n",
      "FAILED (errors=1)\n"
     ]
    },
    {
     "ename": "SystemExit",
     "evalue": "True",
     "output_type": "error",
     "traceback": [
      "An exception has occurred, use %tb to see the full traceback.\n",
      "\u001b[1;31mSystemExit\u001b[0m\u001b[1;31m:\u001b[0m True\n"
     ]
    },
    {
     "name": "stderr",
     "output_type": "stream",
     "text": [
      "C:\\Users\\Ajay gupta\\pythan\\lib\\site-packages\\IPython\\core\\interactiveshell.py:3351: UserWarning: To exit: use 'exit', 'quit', or Ctrl-D.\n",
      "  warn(\"To exit: use 'exit', 'quit', or Ctrl-D.\", stacklevel=1)\n"
     ]
    }
   ],
   "source": [
    "import unittest\n",
    "from primeCode import is_prime\n",
    "\n",
    "class PrimesTestCase(unittest.TestCase):\n",
    "    \"\"\"Tests for `primeCode.py`.\"\"\"\n",
    "\n",
    "    def test_is_five_prime(self):\n",
    "        \"\"\"Is five successfully determined to be prime?\"\"\"\n",
    "        self.assertTrue(is_prime(5))\n",
    "\n",
    "if __name__ == '__main__':\n",
    "    unittest.main()"
   ]
  },
  {
   "cell_type": "code",
   "execution_count": null,
   "metadata": {},
   "outputs": [],
   "source": []
  }
 ],
 "metadata": {
  "kernelspec": {
   "display_name": "Python 3",
   "language": "python",
   "name": "python3"
  },
  "language_info": {
   "codemirror_mode": {
    "name": "ipython",
    "version": 3
   },
   "file_extension": ".py",
   "mimetype": "text/x-python",
   "name": "python",
   "nbconvert_exporter": "python",
   "pygments_lexer": "ipython3",
   "version": "3.8.3"
  }
 },
 "nbformat": 4,
 "nbformat_minor": 4
}
