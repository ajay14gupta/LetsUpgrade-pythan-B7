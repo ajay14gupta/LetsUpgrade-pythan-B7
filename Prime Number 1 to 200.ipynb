{
 "cells": [
  {
   "cell_type": "markdown",
   "metadata": {},
   "source": [
    "# Assignment -2, Day -3"
   ]
  },
  {
   "cell_type": "code",
   "execution_count": 94,
   "metadata": {},
   "outputs": [
    {
     "name": "stdout",
     "output_type": "stream",
     "text": [
      "Prime Number = 2\n",
      "Prime Number = 3\n",
      "Prime Number = 5\n",
      "Prime Number = 7\n",
      "Prime Number = 11\n",
      "Prime Number = 13\n",
      "Prime Number = 17\n",
      "Prime Number = 19\n",
      "Prime Number = 23\n",
      "Prime Number = 29\n",
      "Prime Number = 31\n",
      "Prime Number = 37\n",
      "Prime Number = 41\n",
      "Prime Number = 43\n",
      "Prime Number = 47\n",
      "Prime Number = 53\n",
      "Prime Number = 59\n",
      "Prime Number = 61\n",
      "Prime Number = 67\n",
      "Prime Number = 71\n",
      "Prime Number = 73\n",
      "Prime Number = 79\n",
      "Prime Number = 83\n",
      "Prime Number = 89\n",
      "Prime Number = 97\n",
      "Prime Number = 101\n",
      "Prime Number = 103\n",
      "Prime Number = 107\n",
      "Prime Number = 109\n",
      "Prime Number = 113\n",
      "Prime Number = 127\n",
      "Prime Number = 131\n",
      "Prime Number = 137\n",
      "Prime Number = 139\n",
      "Prime Number = 149\n",
      "Prime Number = 151\n",
      "Prime Number = 157\n",
      "Prime Number = 163\n",
      "Prime Number = 167\n",
      "Prime Number = 173\n",
      "Prime Number = 179\n",
      "Prime Number = 181\n",
      "Prime Number = 191\n",
      "Prime Number = 193\n",
      "Prime Number = 197\n",
      "Prime Number = 199\n"
     ]
    }
   ],
   "source": [
    "lower = 1\n",
    "\n",
    "upper = 200\n",
    "\n",
    "for num in range(lower, upper + 1):\n",
    "    if num > 1:\n",
    "        for i in range(2, num):\n",
    "            if (num%i) ==0:\n",
    "                break\n",
    "        else:\n",
    "                print(\"Prime Number\", \"=\", num)"
   ]
  },
  {
   "cell_type": "code",
   "execution_count": null,
   "metadata": {},
   "outputs": [],
   "source": []
  }
 ],
 "metadata": {
  "kernelspec": {
   "display_name": "Python 3",
   "language": "python",
   "name": "python3"
  },
  "language_info": {
   "codemirror_mode": {
    "name": "ipython",
    "version": 3
   },
   "file_extension": ".py",
   "mimetype": "text/x-python",
   "name": "python",
   "nbconvert_exporter": "python",
   "pygments_lexer": "ipython3",
   "version": "3.8.3"
  }
 },
 "nbformat": 4,
 "nbformat_minor": 4
}
