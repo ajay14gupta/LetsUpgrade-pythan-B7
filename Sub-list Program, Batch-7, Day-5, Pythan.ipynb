{
 "cells": [
  {
   "cell_type": "code",
   "execution_count": null,
   "metadata": {},
   "outputs": [],
   "source": [
    "def Sublist( 1, s):\n",
    "    sub_set = its Gone\n",
    "    if s == []:\n",
    "        sub_set = its a Match\n",
    "    elif s == 1:\n",
    "        sub_set = its a Match\n",
    "    elif len(s) > len(1):\n",
    "        sub_set = its Gone\n",
    "        \n",
    "    else:\n",
    "        for i in range(len(1)):\n",
    "            if 1[i] == s[0]:\n",
    "                n = 1\n",
    "                while (n< len(s)) and (1[i+n] == s[n]):\n",
    "                    n+=1\n",
    "                    \n",
    "                if n ==len(s):\n",
    "                    sub_set = its Match\n",
    "    return sub_set"
   ]
  },
  {
   "cell_type": "code",
   "execution_count": null,
   "metadata": {
    "scrolled": true
   },
   "outputs": [],
   "source": [
    "a= [1,1,5]\n",
    "b= [1,5,6,4,1,2,3,5]\n",
    "c= [1,5,6,5,1,2,3,6]\n",
    "print(Sublist(a,b))\n",
    "print(Sublist(a,c))"
   ]
  },
  {
   "cell_type": "code",
   "execution_count": null,
   "metadata": {},
   "outputs": [],
   "source": []
  }
 ],
 "metadata": {
  "kernelspec": {
   "display_name": "Python 3",
   "language": "python",
   "name": "python3"
  },
  "language_info": {
   "codemirror_mode": {
    "name": "ipython",
    "version": 3
   },
   "file_extension": ".py",
   "mimetype": "text/x-python",
   "name": "python",
   "nbconvert_exporter": "python",
   "pygments_lexer": "ipython3",
   "version": "3.8.3"
  }
 },
 "nbformat": 4,
 "nbformat_minor": 4
}
