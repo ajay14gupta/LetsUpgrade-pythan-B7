{
 "cells": [
  {
   "cell_type": "markdown",
   "metadata": {},
   "source": [
    "# Pilots Plane Landing Altitude Program"
   ]
  },
  {
   "cell_type": "code",
   "execution_count": 14,
   "metadata": {},
   "outputs": [
    {
     "name": "stdout",
     "output_type": "stream",
     "text": [
      "Enter Your Current Altitude =3333\n",
      "Come Down To 1000\n"
     ]
    }
   ],
   "source": [
    "num = input(\"Enter Your Current Altitude =\")\n",
    "\n",
    "num = int(num)\n",
    "\n",
    "if (num <= 1000):\n",
    "    print(\"Land tha Plane\")\n",
    "    \n",
    "elif (num <= 5000):\n",
    "    print(\"Come Down To 1000\")\n",
    "    \n",
    "elif (num > 5000):\n",
    "    print(\"Go Turn Around and Try Later\")"
   ]
  },
  {
   "cell_type": "code",
   "execution_count": null,
   "metadata": {},
   "outputs": [],
   "source": []
  },
  {
   "cell_type": "code",
   "execution_count": null,
   "metadata": {},
   "outputs": [],
   "source": []
  }
 ],
 "metadata": {
  "kernelspec": {
   "display_name": "Python 3",
   "language": "python",
   "name": "python3"
  },
  "language_info": {
   "codemirror_mode": {
    "name": "ipython",
    "version": 3
   },
   "file_extension": ".py",
   "mimetype": "text/x-python",
   "name": "python",
   "nbconvert_exporter": "python",
   "pygments_lexer": "ipython3",
   "version": "3.8.3"
  }
 },
 "nbformat": 4,
 "nbformat_minor": 4
}
